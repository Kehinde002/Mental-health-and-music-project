{
 "cells": [
  {
   "cell_type": "markdown",
   "id": "ca7aba7c-e6a5-433a-90aa-d90423bdb42f",
   "metadata": {},
   "source": [
    "# Music and Mental Health : A Data-Driven Exploration"
   ]
  },
  {
   "cell_type": "markdown",
   "id": "fa360be9-3554-4510-b538-2e332c8a3a07",
   "metadata": {},
   "source": [
    "## Group project by : Kehinde Oluwabukola Ogunjobi , Filani Opeyemi Morenike , Kolawole Olatunde Peter"
   ]
  },
  {
   "cell_type": "markdown",
   "id": "227823e6-ade5-4d81-9a3b-b77af20b6b46",
   "metadata": {},
   "source": [
    "## Dataset gotten from : Kaggle and managed by @catherinerasgaitis"
   ]
  },
  {
   "cell_type": "markdown",
   "id": "f690d13a-fb87-4353-be03-eef90894213a",
   "metadata": {},
   "source": [
    "## Aim :The MxMH dataset aims to identify what, if any, correlations exist between an individual's music taste and their self-reported mental health."
   ]
  },
  {
   "cell_type": "markdown",
   "id": "cc873896-2add-4068-9834-33e653019089",
   "metadata": {},
   "source": [
    "## NB: I renamed the File as mxmh_survey_results PROJECT INNKEEPER.csv"
   ]
  },
  {
   "cell_type": "markdown",
   "id": "e02a85b1-96b9-4252-8b27-5a1dd1a13bed",
   "metadata": {},
   "source": [
    "# Data Cleaning"
   ]
  },
  {
   "cell_type": "markdown",
   "id": "f06271a9-e6a7-4eed-8ec2-a6e14cc42eb0",
   "metadata": {},
   "source": [
    "## . For the data cleaning i used functions like .info() , .describe() in other to understand my data ,\n",
    "## . I identified null values using .isnull() and replaced it accordingly without bias using some method like replacing with mean mode and specifying the null spaces if significant so as to not take the true meaning from the data ,\n",
    "## . I also ensured that the data type for each colunm were concurrent across the table.\n",
    "## . I ensured there were no duplicates in the dataset"
   ]
  },
  {
   "cell_type": "code",
   "execution_count": 120,
   "id": "ae9b2fac-a3ed-4fe7-adfe-95497b0a3974",
   "metadata": {},
   "outputs": [],
   "source": [
    "import pandas as pd\n",
    "import matplotlib.pyplot as plt\n",
    "import numpy as np\n",
    "from scipy import stats"
   ]
  },
  {
   "cell_type": "code",
   "execution_count": 121,
   "id": "08b2f1e5-ec9c-4271-b33a-bc6334789314",
   "metadata": {},
   "outputs": [
    {
     "data": {
      "text/html": [
       "<div>\n",
       "<style scoped>\n",
       "    .dataframe tbody tr th:only-of-type {\n",
       "        vertical-align: middle;\n",
       "    }\n",
       "\n",
       "    .dataframe tbody tr th {\n",
       "        vertical-align: top;\n",
       "    }\n",
       "\n",
       "    .dataframe thead th {\n",
       "        text-align: right;\n",
       "    }\n",
       "</style>\n",
       "<table border=\"1\" class=\"dataframe\">\n",
       "  <thead>\n",
       "    <tr style=\"text-align: right;\">\n",
       "      <th></th>\n",
       "      <th>Timestamp</th>\n",
       "      <th>Age</th>\n",
       "      <th>Primary streaming service</th>\n",
       "      <th>Hours per day</th>\n",
       "      <th>While working</th>\n",
       "      <th>Instrumentalist</th>\n",
       "      <th>Composer</th>\n",
       "      <th>Fav genre</th>\n",
       "      <th>Exploratory</th>\n",
       "      <th>Foreign languages</th>\n",
       "      <th>...</th>\n",
       "      <th>Frequency [R&amp;B]</th>\n",
       "      <th>Frequency [Rap]</th>\n",
       "      <th>Frequency [Rock]</th>\n",
       "      <th>Frequency [Video game music]</th>\n",
       "      <th>Anxiety</th>\n",
       "      <th>Depression</th>\n",
       "      <th>Insomnia</th>\n",
       "      <th>OCD</th>\n",
       "      <th>Music effects</th>\n",
       "      <th>Permissions</th>\n",
       "    </tr>\n",
       "  </thead>\n",
       "  <tbody>\n",
       "    <tr>\n",
       "      <th>0</th>\n",
       "      <td>8/27/2022 19:29</td>\n",
       "      <td>18.0</td>\n",
       "      <td>Spotify</td>\n",
       "      <td>3.0</td>\n",
       "      <td>Yes</td>\n",
       "      <td>Yes</td>\n",
       "      <td>Yes</td>\n",
       "      <td>Latin</td>\n",
       "      <td>Yes</td>\n",
       "      <td>Yes</td>\n",
       "      <td>...</td>\n",
       "      <td>Sometimes</td>\n",
       "      <td>Very frequently</td>\n",
       "      <td>Never</td>\n",
       "      <td>Sometimes</td>\n",
       "      <td>3.0</td>\n",
       "      <td>0.0</td>\n",
       "      <td>1.0</td>\n",
       "      <td>0.0</td>\n",
       "      <td>NaN</td>\n",
       "      <td>I understand.</td>\n",
       "    </tr>\n",
       "    <tr>\n",
       "      <th>1</th>\n",
       "      <td>8/27/2022 19:57</td>\n",
       "      <td>63.0</td>\n",
       "      <td>Pandora</td>\n",
       "      <td>1.5</td>\n",
       "      <td>Yes</td>\n",
       "      <td>No</td>\n",
       "      <td>No</td>\n",
       "      <td>Rock</td>\n",
       "      <td>Yes</td>\n",
       "      <td>No</td>\n",
       "      <td>...</td>\n",
       "      <td>Sometimes</td>\n",
       "      <td>Rarely</td>\n",
       "      <td>Very frequently</td>\n",
       "      <td>Rarely</td>\n",
       "      <td>7.0</td>\n",
       "      <td>2.0</td>\n",
       "      <td>2.0</td>\n",
       "      <td>1.0</td>\n",
       "      <td>NaN</td>\n",
       "      <td>I understand.</td>\n",
       "    </tr>\n",
       "    <tr>\n",
       "      <th>2</th>\n",
       "      <td>8/27/2022 21:28</td>\n",
       "      <td>18.0</td>\n",
       "      <td>Spotify</td>\n",
       "      <td>4.0</td>\n",
       "      <td>No</td>\n",
       "      <td>No</td>\n",
       "      <td>No</td>\n",
       "      <td>Video game music</td>\n",
       "      <td>No</td>\n",
       "      <td>Yes</td>\n",
       "      <td>...</td>\n",
       "      <td>Never</td>\n",
       "      <td>Rarely</td>\n",
       "      <td>Rarely</td>\n",
       "      <td>Very frequently</td>\n",
       "      <td>7.0</td>\n",
       "      <td>7.0</td>\n",
       "      <td>10.0</td>\n",
       "      <td>2.0</td>\n",
       "      <td>No effect</td>\n",
       "      <td>I understand.</td>\n",
       "    </tr>\n",
       "    <tr>\n",
       "      <th>3</th>\n",
       "      <td>8/27/2022 21:40</td>\n",
       "      <td>61.0</td>\n",
       "      <td>YouTube Music</td>\n",
       "      <td>2.5</td>\n",
       "      <td>Yes</td>\n",
       "      <td>No</td>\n",
       "      <td>Yes</td>\n",
       "      <td>Jazz</td>\n",
       "      <td>Yes</td>\n",
       "      <td>Yes</td>\n",
       "      <td>...</td>\n",
       "      <td>Sometimes</td>\n",
       "      <td>Never</td>\n",
       "      <td>Never</td>\n",
       "      <td>Never</td>\n",
       "      <td>9.0</td>\n",
       "      <td>7.0</td>\n",
       "      <td>3.0</td>\n",
       "      <td>3.0</td>\n",
       "      <td>Improve</td>\n",
       "      <td>I understand.</td>\n",
       "    </tr>\n",
       "    <tr>\n",
       "      <th>4</th>\n",
       "      <td>8/27/2022 21:54</td>\n",
       "      <td>18.0</td>\n",
       "      <td>Spotify</td>\n",
       "      <td>4.0</td>\n",
       "      <td>Yes</td>\n",
       "      <td>No</td>\n",
       "      <td>No</td>\n",
       "      <td>R&amp;B</td>\n",
       "      <td>Yes</td>\n",
       "      <td>No</td>\n",
       "      <td>...</td>\n",
       "      <td>Very frequently</td>\n",
       "      <td>Very frequently</td>\n",
       "      <td>Never</td>\n",
       "      <td>Rarely</td>\n",
       "      <td>7.0</td>\n",
       "      <td>2.0</td>\n",
       "      <td>5.0</td>\n",
       "      <td>9.0</td>\n",
       "      <td>Improve</td>\n",
       "      <td>I understand.</td>\n",
       "    </tr>\n",
       "  </tbody>\n",
       "</table>\n",
       "<p>5 rows × 33 columns</p>\n",
       "</div>"
      ],
      "text/plain": [
       "         Timestamp   Age Primary streaming service  Hours per day  \\\n",
       "0  8/27/2022 19:29  18.0                   Spotify            3.0   \n",
       "1  8/27/2022 19:57  63.0                   Pandora            1.5   \n",
       "2  8/27/2022 21:28  18.0                   Spotify            4.0   \n",
       "3  8/27/2022 21:40  61.0             YouTube Music            2.5   \n",
       "4  8/27/2022 21:54  18.0                   Spotify            4.0   \n",
       "\n",
       "  While working Instrumentalist Composer         Fav genre Exploratory  \\\n",
       "0           Yes             Yes      Yes             Latin         Yes   \n",
       "1           Yes              No       No              Rock         Yes   \n",
       "2            No              No       No  Video game music          No   \n",
       "3           Yes              No      Yes              Jazz         Yes   \n",
       "4           Yes              No       No               R&B         Yes   \n",
       "\n",
       "  Foreign languages  ...  Frequency [R&B]  Frequency [Rap] Frequency [Rock]  \\\n",
       "0               Yes  ...        Sometimes  Very frequently            Never   \n",
       "1                No  ...        Sometimes           Rarely  Very frequently   \n",
       "2               Yes  ...            Never           Rarely           Rarely   \n",
       "3               Yes  ...        Sometimes            Never            Never   \n",
       "4                No  ...  Very frequently  Very frequently            Never   \n",
       "\n",
       "  Frequency [Video game music] Anxiety Depression Insomnia  OCD Music effects  \\\n",
       "0                    Sometimes     3.0        0.0      1.0  0.0           NaN   \n",
       "1                       Rarely     7.0        2.0      2.0  1.0           NaN   \n",
       "2              Very frequently     7.0        7.0     10.0  2.0     No effect   \n",
       "3                        Never     9.0        7.0      3.0  3.0       Improve   \n",
       "4                       Rarely     7.0        2.0      5.0  9.0       Improve   \n",
       "\n",
       "     Permissions  \n",
       "0  I understand.  \n",
       "1  I understand.  \n",
       "2  I understand.  \n",
       "3  I understand.  \n",
       "4  I understand.  \n",
       "\n",
       "[5 rows x 33 columns]"
      ]
     },
     "execution_count": 121,
     "metadata": {},
     "output_type": "execute_result"
    }
   ],
   "source": [
    "df= pd.read_csv(\"mxmh_survey_results PROJECT INNKEEPER.csv\")\n",
    "df.head()"
   ]
  },
  {
   "cell_type": "code",
   "execution_count": 122,
   "id": "7be7e735-d202-4248-aa4c-7fb0315295a9",
   "metadata": {},
   "outputs": [
    {
     "name": "stdout",
     "output_type": "stream",
     "text": [
      "<class 'pandas.core.frame.DataFrame'>\n",
      "RangeIndex: 736 entries, 0 to 735\n",
      "Data columns (total 33 columns):\n",
      " #   Column                        Non-Null Count  Dtype  \n",
      "---  ------                        --------------  -----  \n",
      " 0   Timestamp                     736 non-null    object \n",
      " 1   Age                           735 non-null    float64\n",
      " 2   Primary streaming service     735 non-null    object \n",
      " 3   Hours per day                 736 non-null    float64\n",
      " 4   While working                 733 non-null    object \n",
      " 5   Instrumentalist               732 non-null    object \n",
      " 6   Composer                      735 non-null    object \n",
      " 7   Fav genre                     736 non-null    object \n",
      " 8   Exploratory                   736 non-null    object \n",
      " 9   Foreign languages             732 non-null    object \n",
      " 10  BPM                           629 non-null    float64\n",
      " 11  Frequency [Classical]         736 non-null    object \n",
      " 12  Frequency [Country]           736 non-null    object \n",
      " 13  Frequency [EDM]               736 non-null    object \n",
      " 14  Frequency [Folk]              736 non-null    object \n",
      " 15  Frequency [Gospel]            736 non-null    object \n",
      " 16  Frequency [Hip hop]           736 non-null    object \n",
      " 17  Frequency [Jazz]              736 non-null    object \n",
      " 18  Frequency [K pop]             736 non-null    object \n",
      " 19  Frequency [Latin]             736 non-null    object \n",
      " 20  Frequency [Lofi]              736 non-null    object \n",
      " 21  Frequency [Metal]             736 non-null    object \n",
      " 22  Frequency [Pop]               736 non-null    object \n",
      " 23  Frequency [R&B]               736 non-null    object \n",
      " 24  Frequency [Rap]               736 non-null    object \n",
      " 25  Frequency [Rock]              736 non-null    object \n",
      " 26  Frequency [Video game music]  736 non-null    object \n",
      " 27  Anxiety                       736 non-null    float64\n",
      " 28  Depression                    736 non-null    float64\n",
      " 29  Insomnia                      736 non-null    float64\n",
      " 30  OCD                           736 non-null    float64\n",
      " 31  Music effects                 728 non-null    object \n",
      " 32  Permissions                   736 non-null    object \n",
      "dtypes: float64(7), object(26)\n",
      "memory usage: 189.9+ KB\n"
     ]
    }
   ],
   "source": [
    "df.info()"
   ]
  },
  {
   "cell_type": "code",
   "execution_count": 123,
   "id": "e310af7c-957e-4bc2-93bf-156256eb7f9f",
   "metadata": {},
   "outputs": [
    {
     "data": {
      "text/html": [
       "<div>\n",
       "<style scoped>\n",
       "    .dataframe tbody tr th:only-of-type {\n",
       "        vertical-align: middle;\n",
       "    }\n",
       "\n",
       "    .dataframe tbody tr th {\n",
       "        vertical-align: top;\n",
       "    }\n",
       "\n",
       "    .dataframe thead th {\n",
       "        text-align: right;\n",
       "    }\n",
       "</style>\n",
       "<table border=\"1\" class=\"dataframe\">\n",
       "  <thead>\n",
       "    <tr style=\"text-align: right;\">\n",
       "      <th></th>\n",
       "      <th>Age</th>\n",
       "      <th>Hours per day</th>\n",
       "      <th>BPM</th>\n",
       "      <th>Anxiety</th>\n",
       "      <th>Depression</th>\n",
       "      <th>Insomnia</th>\n",
       "      <th>OCD</th>\n",
       "    </tr>\n",
       "  </thead>\n",
       "  <tbody>\n",
       "    <tr>\n",
       "      <th>count</th>\n",
       "      <td>735.000000</td>\n",
       "      <td>736.000000</td>\n",
       "      <td>6.290000e+02</td>\n",
       "      <td>736.000000</td>\n",
       "      <td>736.000000</td>\n",
       "      <td>736.000000</td>\n",
       "      <td>736.000000</td>\n",
       "    </tr>\n",
       "    <tr>\n",
       "      <th>mean</th>\n",
       "      <td>25.206803</td>\n",
       "      <td>3.572758</td>\n",
       "      <td>1.589948e+06</td>\n",
       "      <td>5.837636</td>\n",
       "      <td>4.796196</td>\n",
       "      <td>3.738451</td>\n",
       "      <td>2.637228</td>\n",
       "    </tr>\n",
       "    <tr>\n",
       "      <th>std</th>\n",
       "      <td>12.054970</td>\n",
       "      <td>3.028199</td>\n",
       "      <td>3.987261e+07</td>\n",
       "      <td>2.793054</td>\n",
       "      <td>3.028870</td>\n",
       "      <td>3.088689</td>\n",
       "      <td>2.842017</td>\n",
       "    </tr>\n",
       "    <tr>\n",
       "      <th>min</th>\n",
       "      <td>10.000000</td>\n",
       "      <td>0.000000</td>\n",
       "      <td>0.000000e+00</td>\n",
       "      <td>0.000000</td>\n",
       "      <td>0.000000</td>\n",
       "      <td>0.000000</td>\n",
       "      <td>0.000000</td>\n",
       "    </tr>\n",
       "    <tr>\n",
       "      <th>25%</th>\n",
       "      <td>18.000000</td>\n",
       "      <td>2.000000</td>\n",
       "      <td>1.000000e+02</td>\n",
       "      <td>4.000000</td>\n",
       "      <td>2.000000</td>\n",
       "      <td>1.000000</td>\n",
       "      <td>0.000000</td>\n",
       "    </tr>\n",
       "    <tr>\n",
       "      <th>50%</th>\n",
       "      <td>21.000000</td>\n",
       "      <td>3.000000</td>\n",
       "      <td>1.200000e+02</td>\n",
       "      <td>6.000000</td>\n",
       "      <td>5.000000</td>\n",
       "      <td>3.000000</td>\n",
       "      <td>2.000000</td>\n",
       "    </tr>\n",
       "    <tr>\n",
       "      <th>75%</th>\n",
       "      <td>28.000000</td>\n",
       "      <td>5.000000</td>\n",
       "      <td>1.440000e+02</td>\n",
       "      <td>8.000000</td>\n",
       "      <td>7.000000</td>\n",
       "      <td>6.000000</td>\n",
       "      <td>5.000000</td>\n",
       "    </tr>\n",
       "    <tr>\n",
       "      <th>max</th>\n",
       "      <td>89.000000</td>\n",
       "      <td>24.000000</td>\n",
       "      <td>1.000000e+09</td>\n",
       "      <td>10.000000</td>\n",
       "      <td>10.000000</td>\n",
       "      <td>10.000000</td>\n",
       "      <td>10.000000</td>\n",
       "    </tr>\n",
       "  </tbody>\n",
       "</table>\n",
       "</div>"
      ],
      "text/plain": [
       "              Age  Hours per day           BPM     Anxiety  Depression  \\\n",
       "count  735.000000     736.000000  6.290000e+02  736.000000  736.000000   \n",
       "mean    25.206803       3.572758  1.589948e+06    5.837636    4.796196   \n",
       "std     12.054970       3.028199  3.987261e+07    2.793054    3.028870   \n",
       "min     10.000000       0.000000  0.000000e+00    0.000000    0.000000   \n",
       "25%     18.000000       2.000000  1.000000e+02    4.000000    2.000000   \n",
       "50%     21.000000       3.000000  1.200000e+02    6.000000    5.000000   \n",
       "75%     28.000000       5.000000  1.440000e+02    8.000000    7.000000   \n",
       "max     89.000000      24.000000  1.000000e+09   10.000000   10.000000   \n",
       "\n",
       "         Insomnia         OCD  \n",
       "count  736.000000  736.000000  \n",
       "mean     3.738451    2.637228  \n",
       "std      3.088689    2.842017  \n",
       "min      0.000000    0.000000  \n",
       "25%      1.000000    0.000000  \n",
       "50%      3.000000    2.000000  \n",
       "75%      6.000000    5.000000  \n",
       "max     10.000000   10.000000  "
      ]
     },
     "execution_count": 123,
     "metadata": {},
     "output_type": "execute_result"
    }
   ],
   "source": [
    "df.describe()"
   ]
  },
  {
   "cell_type": "code",
   "execution_count": 124,
   "id": "545060b0-867a-48b0-acea-760578f2d962",
   "metadata": {},
   "outputs": [
    {
     "name": "stdout",
     "output_type": "stream",
     "text": [
      "Timestamp                         0\n",
      "Age                               1\n",
      "Primary streaming service         1\n",
      "Hours per day                     0\n",
      "While working                     3\n",
      "Instrumentalist                   4\n",
      "Composer                          1\n",
      "Fav genre                         0\n",
      "Exploratory                       0\n",
      "Foreign languages                 4\n",
      "BPM                             107\n",
      "Frequency [Classical]             0\n",
      "Frequency [Country]               0\n",
      "Frequency [EDM]                   0\n",
      "Frequency [Folk]                  0\n",
      "Frequency [Gospel]                0\n",
      "Frequency [Hip hop]               0\n",
      "Frequency [Jazz]                  0\n",
      "Frequency [K pop]                 0\n",
      "Frequency [Latin]                 0\n",
      "Frequency [Lofi]                  0\n",
      "Frequency [Metal]                 0\n",
      "Frequency [Pop]                   0\n",
      "Frequency [R&B]                   0\n",
      "Frequency [Rap]                   0\n",
      "Frequency [Rock]                  0\n",
      "Frequency [Video game music]      0\n",
      "Anxiety                           0\n",
      "Depression                        0\n",
      "Insomnia                          0\n",
      "OCD                               0\n",
      "Music effects                     8\n",
      "Permissions                       0\n",
      "dtype: int64\n"
     ]
    }
   ],
   "source": [
    "null_counts = df.isnull().sum()\n",
    "print(null_counts)"
   ]
  },
  {
   "cell_type": "code",
   "execution_count": 125,
   "id": "800eb75c-1874-4720-a877-3c72dd59c603",
   "metadata": {},
   "outputs": [
    {
     "name": "stdout",
     "output_type": "stream",
     "text": [
      "           Timestamp   Age          Primary streaming service  Hours per day  \\\n",
      "0    8/27/2022 19:29  18.0                            Spotify            3.0   \n",
      "1    8/27/2022 19:57  63.0                            Pandora            1.5   \n",
      "10   8/27/2022 22:51  18.0                            Spotify            3.0   \n",
      "12   8/27/2022 23:04   NaN                            Spotify            3.0   \n",
      "15   8/27/2022 23:19  17.0                            Spotify            2.0   \n",
      "..               ...   ...                                ...            ...   \n",
      "688   9/24/2022 0:42  18.0                            Spotify            4.0   \n",
      "700  10/3/2022 10:00  20.0                      YouTube Music            1.0   \n",
      "706  10/3/2022 15:38  23.0                            Spotify            1.0   \n",
      "712   10/4/2022 8:53  23.0  I do not use a streaming service.            3.0   \n",
      "717  10/5/2022 12:30  23.0                            Spotify            2.0   \n",
      "\n",
      "    While working Instrumentalist Composer Fav genre Exploratory  \\\n",
      "0             Yes             Yes      Yes     Latin         Yes   \n",
      "1             Yes              No       No      Rock         Yes   \n",
      "10            Yes             Yes       No   Country         Yes   \n",
      "12            Yes              No       No   Hip hop         Yes   \n",
      "15             No              No       No       Pop         Yes   \n",
      "..            ...             ...      ...       ...         ...   \n",
      "688           Yes              No       No       R&B          No   \n",
      "700           Yes              No       No       Pop          No   \n",
      "706           Yes             Yes       No      Rock         Yes   \n",
      "712           Yes              No       No      Rock          No   \n",
      "717            No              No       No      Rock         Yes   \n",
      "\n",
      "    Foreign languages  ...  Frequency [R&B]  Frequency [Rap] Frequency [Rock]  \\\n",
      "0                 Yes  ...        Sometimes  Very frequently            Never   \n",
      "1                  No  ...        Sometimes           Rarely  Very frequently   \n",
      "10                 No  ...           Rarely            Never           Rarely   \n",
      "12                Yes  ...        Sometimes           Rarely           Rarely   \n",
      "15                Yes  ...           Rarely        Sometimes        Sometimes   \n",
      "..                ...  ...              ...              ...              ...   \n",
      "688                No  ...  Very frequently        Sometimes            Never   \n",
      "700               Yes  ...           Rarely        Sometimes           Rarely   \n",
      "706               Yes  ...        Sometimes        Sometimes  Very frequently   \n",
      "712                No  ...           Rarely            Never  Very frequently   \n",
      "717               Yes  ...        Sometimes        Sometimes  Very frequently   \n",
      "\n",
      "    Frequency [Video game music] Anxiety Depression Insomnia  OCD  \\\n",
      "0                      Sometimes     3.0        0.0      1.0  0.0   \n",
      "1                         Rarely     7.0        2.0      2.0  1.0   \n",
      "10                         Never     7.0        7.0      4.0  7.0   \n",
      "12                         Never     9.0        3.0      2.0  7.0   \n",
      "15                        Rarely     7.0        5.0      4.0  1.0   \n",
      "..                           ...     ...        ...      ...  ...   \n",
      "688                        Never     8.0        0.0      0.0  2.0   \n",
      "700              Very frequently     8.0        9.0      6.0  5.0   \n",
      "706              Very frequently     8.0        6.0      1.0  4.0   \n",
      "712                        Never    10.0        5.0      2.0  0.0   \n",
      "717                        Never     5.0        7.0     10.0  2.0   \n",
      "\n",
      "    Music effects    Permissions  \n",
      "0             NaN  I understand.  \n",
      "1             NaN  I understand.  \n",
      "10      No effect  I understand.  \n",
      "12        Improve  I understand.  \n",
      "15         Worsen  I understand.  \n",
      "..            ...            ...  \n",
      "688     No effect  I understand.  \n",
      "700        Worsen  I understand.  \n",
      "706       Improve  I understand.  \n",
      "712       Improve  I understand.  \n",
      "717     No effect  I understand.  \n",
      "\n",
      "[120 rows x 33 columns]\n"
     ]
    }
   ],
   "source": [
    "rows_with_null = df[df.isnull().any(axis=1)]\n",
    "print(rows_with_null)"
   ]
  },
  {
   "cell_type": "code",
   "execution_count": 126,
   "id": "c999df52-f64e-4cb8-b63e-f5b297b6282a",
   "metadata": {},
   "outputs": [
    {
     "name": "stdout",
     "output_type": "stream",
     "text": [
      "<class 'pandas.core.frame.DataFrame'>\n",
      "RangeIndex: 736 entries, 0 to 735\n",
      "Data columns (total 33 columns):\n",
      " #   Column                        Non-Null Count  Dtype  \n",
      "---  ------                        --------------  -----  \n",
      " 0   Timestamp                     736 non-null    object \n",
      " 1   Age                           736 non-null    int32  \n",
      " 2   Primary streaming service     735 non-null    object \n",
      " 3   Hours per day                 736 non-null    float64\n",
      " 4   While working                 733 non-null    object \n",
      " 5   Instrumentalist               732 non-null    object \n",
      " 6   Composer                      735 non-null    object \n",
      " 7   Fav genre                     736 non-null    object \n",
      " 8   Exploratory                   736 non-null    object \n",
      " 9   Foreign languages             732 non-null    object \n",
      " 10  BPM                           629 non-null    float64\n",
      " 11  Frequency [Classical]         736 non-null    object \n",
      " 12  Frequency [Country]           736 non-null    object \n",
      " 13  Frequency [EDM]               736 non-null    object \n",
      " 14  Frequency [Folk]              736 non-null    object \n",
      " 15  Frequency [Gospel]            736 non-null    object \n",
      " 16  Frequency [Hip hop]           736 non-null    object \n",
      " 17  Frequency [Jazz]              736 non-null    object \n",
      " 18  Frequency [K pop]             736 non-null    object \n",
      " 19  Frequency [Latin]             736 non-null    object \n",
      " 20  Frequency [Lofi]              736 non-null    object \n",
      " 21  Frequency [Metal]             736 non-null    object \n",
      " 22  Frequency [Pop]               736 non-null    object \n",
      " 23  Frequency [R&B]               736 non-null    object \n",
      " 24  Frequency [Rap]               736 non-null    object \n",
      " 25  Frequency [Rock]              736 non-null    object \n",
      " 26  Frequency [Video game music]  736 non-null    object \n",
      " 27  Anxiety                       736 non-null    float64\n",
      " 28  Depression                    736 non-null    float64\n",
      " 29  Insomnia                      736 non-null    float64\n",
      " 30  OCD                           736 non-null    float64\n",
      " 31  Music effects                 728 non-null    object \n",
      " 32  Permissions                   736 non-null    object \n",
      "dtypes: float64(6), int32(1), object(26)\n",
      "memory usage: 187.0+ KB\n"
     ]
    }
   ],
   "source": [
    "# Calculate the mean of the \"Age\" column and round it\n",
    "mean_age = round(df['Age'].mean())\n",
    "\n",
    "# Replace missing values with the rounded mean\n",
    "df['Age'].fillna(mean_age, inplace=True)\n",
    "\n",
    "# Change the data type of the \"Age\" column to int\n",
    "df['Age'] = df['Age'].astype(int)\n",
    "df.info()"
   ]
  },
  {
   "cell_type": "code",
   "execution_count": 127,
   "id": "db6d05a6-f7ac-4088-8988-6ee6fe4736e1",
   "metadata": {},
   "outputs": [
    {
     "name": "stdout",
     "output_type": "stream",
     "text": [
      "<class 'pandas.core.frame.DataFrame'>\n",
      "RangeIndex: 736 entries, 0 to 735\n",
      "Data columns (total 33 columns):\n",
      " #   Column                        Non-Null Count  Dtype  \n",
      "---  ------                        --------------  -----  \n",
      " 0   Timestamp                     736 non-null    object \n",
      " 1   Age                           736 non-null    int32  \n",
      " 2   Primary streaming service     736 non-null    object \n",
      " 3   Hours per day                 736 non-null    float64\n",
      " 4   While working                 736 non-null    object \n",
      " 5   Instrumentalist               736 non-null    object \n",
      " 6   Composer                      736 non-null    object \n",
      " 7   Fav genre                     736 non-null    object \n",
      " 8   Exploratory                   736 non-null    object \n",
      " 9   Foreign languages             736 non-null    object \n",
      " 10  BPM                           736 non-null    float64\n",
      " 11  Frequency [Classical]         736 non-null    object \n",
      " 12  Frequency [Country]           736 non-null    object \n",
      " 13  Frequency [EDM]               736 non-null    object \n",
      " 14  Frequency [Folk]              736 non-null    object \n",
      " 15  Frequency [Gospel]            736 non-null    object \n",
      " 16  Frequency [Hip hop]           736 non-null    object \n",
      " 17  Frequency [Jazz]              736 non-null    object \n",
      " 18  Frequency [K pop]             736 non-null    object \n",
      " 19  Frequency [Latin]             736 non-null    object \n",
      " 20  Frequency [Lofi]              736 non-null    object \n",
      " 21  Frequency [Metal]             736 non-null    object \n",
      " 22  Frequency [Pop]               736 non-null    object \n",
      " 23  Frequency [R&B]               736 non-null    object \n",
      " 24  Frequency [Rap]               736 non-null    object \n",
      " 25  Frequency [Rock]              736 non-null    object \n",
      " 26  Frequency [Video game music]  736 non-null    object \n",
      " 27  Anxiety                       736 non-null    float64\n",
      " 28  Depression                    736 non-null    float64\n",
      " 29  Insomnia                      736 non-null    float64\n",
      " 30  OCD                           736 non-null    float64\n",
      " 31  Music effects                 736 non-null    object \n",
      " 32  Permissions                   736 non-null    object \n",
      "dtypes: float64(6), int32(1), object(26)\n",
      "memory usage: 187.0+ KB\n"
     ]
    }
   ],
   "source": [
    "# Fill null values in specific columns with appropriate replacements\n",
    "# Calculate the mean of the \"Age\" column and round it\n",
    "mean_age = round(df['Age'].mean())\n",
    "\n",
    "# Replace missing values with the rounded mean\n",
    "df['Age'].fillna(mean_age, inplace=True)\n",
    "\n",
    "# Change the data type of the \"Age\" column to int\n",
    "df['Age'] = df['Age'].astype(int)\n",
    "\n",
    "df['Primary streaming service'].fillna('Not Specified', inplace=True)\n",
    "df['While working'].fillna('Not Specified', inplace=True)\n",
    "df['BPM'].fillna(0.0, inplace=True)\n",
    "df['Music effects'].fillna('Unsure', inplace=True)\n",
    "df['Foreign languages'].fillna('No', inplace=True)\n",
    "df['Instrumentalist'].fillna('No', inplace=True)\n",
    "df['Composer'].fillna('No', inplace=True)\n",
    "\n",
    "# Check the updated information about the dataset\n",
    "df.info()"
   ]
  },
  {
   "cell_type": "code",
   "execution_count": 128,
   "id": "01933bf5-750c-441e-bff7-cf529281176f",
   "metadata": {},
   "outputs": [
    {
     "name": "stdout",
     "output_type": "stream",
     "text": [
      "The number of values in the dataset is: 24288\n"
     ]
    }
   ],
   "source": [
    "# Get the number of values in the dataset\n",
    "num_values = df.size\n",
    "\n",
    "# Print the result\n",
    "print(\"The number of values in the dataset is:\", num_values)"
   ]
  },
  {
   "cell_type": "code",
   "execution_count": 129,
   "id": "98ae0236-b27f-4576-a5e1-e545f228fd53",
   "metadata": {},
   "outputs": [
    {
     "name": "stdout",
     "output_type": "stream",
     "text": [
      "The number of rows in the dataset is: 736\n"
     ]
    }
   ],
   "source": [
    "# Get the number of rows in the dataset\n",
    "num_rows = df.shape[0]\n",
    "\n",
    "# Print the result\n",
    "print(\"The number of rows in the dataset is:\", num_rows)"
   ]
  },
  {
   "cell_type": "code",
   "execution_count": 130,
   "id": "f1484e87-9cef-4662-a123-8e7ebe341210",
   "metadata": {},
   "outputs": [
    {
     "name": "stdout",
     "output_type": "stream",
     "text": [
      "There are no duplicate values in the dataset.\n"
     ]
    }
   ],
   "source": [
    "# Check for duplicate values\n",
    "has_duplicates = df.duplicated().any()\n",
    "\n",
    "# Print the result\n",
    "if has_duplicates:\n",
    "    print(\"There are duplicate values in the dataset.\")\n",
    "else:\n",
    "    print(\"There are no duplicate values in the dataset.\")"
   ]
  },
  {
   "cell_type": "code",
   "execution_count": 131,
   "id": "adc4ebbd-e2e8-4c86-9aa8-20e29f3e7d0e",
   "metadata": {},
   "outputs": [
    {
     "name": "stdout",
     "output_type": "stream",
     "text": [
      "The age range of the participants is: 10-89\n"
     ]
    }
   ],
   "source": [
    "# Calculate the age range\n",
    "min_age = int(df['Age'].min())\n",
    "max_age = int(df['Age'].max())\n",
    "\n",
    "# Create the age range string\n",
    "age_range = str(min_age) + \"-\" + str(max_age)\n",
    "\n",
    "# Print the age range\n",
    "print(\"The age range of the participants is:\", age_range)"
   ]
  },
  {
   "cell_type": "code",
   "execution_count": 132,
   "id": "66b37ea5-dc64-4bc3-a901-c6eeb6fdeb88",
   "metadata": {},
   "outputs": [
    {
     "name": "stdout",
     "output_type": "stream",
     "text": [
      "The range of hours per day for listening to music is: 0-24\n"
     ]
    }
   ],
   "source": [
    "# Calculate the range of hours per day\n",
    "min_hours = int(df['Hours per day'].min())\n",
    "max_hours = int(df['Hours per day'].max())\n",
    "\n",
    "# Create the hours per day range string\n",
    "hours_range = str(min_hours) + \"-\" + str(max_hours)\n",
    "\n",
    "# Print the range of hours per day for listening to music\n",
    "print(\"The range of hours per day for listening to music is:\", hours_range)"
   ]
  },
  {
   "cell_type": "code",
   "execution_count": 133,
   "id": "c906f8e9-5a99-49b0-8406-48d6d9c61303",
   "metadata": {},
   "outputs": [
    {
     "name": "stdout",
     "output_type": "stream",
     "text": [
      "The mean range of hours per day for listening to music is: 0-4\n"
     ]
    }
   ],
   "source": [
    "# Calculate the mean of hours per day\n",
    "mean_hours = round(df['Hours per day'].mean())\n",
    "\n",
    "# Create the mean range string\n",
    "mean_range = \"0-\" + str(mean_hours)\n",
    "\n",
    "# Print the mean range of hours per day for listening to music\n",
    "print(\"The mean range of hours per day for listening to music is:\", mean_range)"
   ]
  },
  {
   "cell_type": "markdown",
   "id": "4ece667d-ce8b-4808-b82a-299fb0893aa7",
   "metadata": {},
   "source": [
    "# Data Manipulation"
   ]
  },
  {
   "cell_type": "code",
   "execution_count": 134,
   "id": "e891aaea-615e-4a9c-b00a-87290ac26037",
   "metadata": {},
   "outputs": [
    {
     "data": {
      "text/html": [
       "<div>\n",
       "<style scoped>\n",
       "    .dataframe tbody tr th:only-of-type {\n",
       "        vertical-align: middle;\n",
       "    }\n",
       "\n",
       "    .dataframe tbody tr th {\n",
       "        vertical-align: top;\n",
       "    }\n",
       "\n",
       "    .dataframe thead th {\n",
       "        text-align: right;\n",
       "    }\n",
       "</style>\n",
       "<table border=\"1\" class=\"dataframe\">\n",
       "  <thead>\n",
       "    <tr style=\"text-align: right;\">\n",
       "      <th></th>\n",
       "      <th>Anxiety</th>\n",
       "      <th>Depression</th>\n",
       "      <th>Insomnia</th>\n",
       "      <th>OCD</th>\n",
       "    </tr>\n",
       "    <tr>\n",
       "      <th>Fav genre</th>\n",
       "      <th></th>\n",
       "      <th></th>\n",
       "      <th></th>\n",
       "      <th></th>\n",
       "    </tr>\n",
       "  </thead>\n",
       "  <tbody>\n",
       "    <tr>\n",
       "      <th>Classical</th>\n",
       "      <td>259.0</td>\n",
       "      <td>216.0</td>\n",
       "      <td>201.0</td>\n",
       "      <td>126.0</td>\n",
       "    </tr>\n",
       "    <tr>\n",
       "      <th>Country</th>\n",
       "      <td>135.0</td>\n",
       "      <td>108.0</td>\n",
       "      <td>68.0</td>\n",
       "      <td>69.0</td>\n",
       "    </tr>\n",
       "    <tr>\n",
       "      <th>EDM</th>\n",
       "      <td>203.0</td>\n",
       "      <td>194.0</td>\n",
       "      <td>147.0</td>\n",
       "      <td>111.0</td>\n",
       "    </tr>\n",
       "    <tr>\n",
       "      <th>Folk</th>\n",
       "      <td>197.0</td>\n",
       "      <td>152.0</td>\n",
       "      <td>109.0</td>\n",
       "      <td>66.0</td>\n",
       "    </tr>\n",
       "    <tr>\n",
       "      <th>Gospel</th>\n",
       "      <td>29.0</td>\n",
       "      <td>16.0</td>\n",
       "      <td>32.0</td>\n",
       "      <td>2.0</td>\n",
       "    </tr>\n",
       "    <tr>\n",
       "      <th>Hip hop</th>\n",
       "      <td>217.0</td>\n",
       "      <td>203.0</td>\n",
       "      <td>120.0</td>\n",
       "      <td>95.0</td>\n",
       "    </tr>\n",
       "    <tr>\n",
       "      <th>Jazz</th>\n",
       "      <td>118.0</td>\n",
       "      <td>90.0</td>\n",
       "      <td>77.0</td>\n",
       "      <td>56.0</td>\n",
       "    </tr>\n",
       "    <tr>\n",
       "      <th>K pop</th>\n",
       "      <td>162.0</td>\n",
       "      <td>115.0</td>\n",
       "      <td>90.0</td>\n",
       "      <td>66.0</td>\n",
       "    </tr>\n",
       "    <tr>\n",
       "      <th>Latin</th>\n",
       "      <td>13.0</td>\n",
       "      <td>9.0</td>\n",
       "      <td>10.0</td>\n",
       "      <td>5.0</td>\n",
       "    </tr>\n",
       "    <tr>\n",
       "      <th>Lofi</th>\n",
       "      <td>61.0</td>\n",
       "      <td>66.0</td>\n",
       "      <td>56.0</td>\n",
       "      <td>34.0</td>\n",
       "    </tr>\n",
       "    <tr>\n",
       "      <th>Metal</th>\n",
       "      <td>507.0</td>\n",
       "      <td>446.0</td>\n",
       "      <td>401.0</td>\n",
       "      <td>211.0</td>\n",
       "    </tr>\n",
       "    <tr>\n",
       "      <th>Pop</th>\n",
       "      <td>692.5</td>\n",
       "      <td>511.5</td>\n",
       "      <td>384.0</td>\n",
       "      <td>325.5</td>\n",
       "    </tr>\n",
       "    <tr>\n",
       "      <th>R&amp;B</th>\n",
       "      <td>181.0</td>\n",
       "      <td>134.0</td>\n",
       "      <td>101.0</td>\n",
       "      <td>96.0</td>\n",
       "    </tr>\n",
       "    <tr>\n",
       "      <th>Rap</th>\n",
       "      <td>112.0</td>\n",
       "      <td>88.0</td>\n",
       "      <td>50.0</td>\n",
       "      <td>70.0</td>\n",
       "    </tr>\n",
       "    <tr>\n",
       "      <th>Rock</th>\n",
       "      <td>1151.0</td>\n",
       "      <td>984.5</td>\n",
       "      <td>729.5</td>\n",
       "      <td>503.5</td>\n",
       "    </tr>\n",
       "    <tr>\n",
       "      <th>Video game music</th>\n",
       "      <td>259.0</td>\n",
       "      <td>197.0</td>\n",
       "      <td>176.0</td>\n",
       "      <td>105.0</td>\n",
       "    </tr>\n",
       "  </tbody>\n",
       "</table>\n",
       "</div>"
      ],
      "text/plain": [
       "                  Anxiety  Depression  Insomnia    OCD\n",
       "Fav genre                                             \n",
       "Classical           259.0       216.0     201.0  126.0\n",
       "Country             135.0       108.0      68.0   69.0\n",
       "EDM                 203.0       194.0     147.0  111.0\n",
       "Folk                197.0       152.0     109.0   66.0\n",
       "Gospel               29.0        16.0      32.0    2.0\n",
       "Hip hop             217.0       203.0     120.0   95.0\n",
       "Jazz                118.0        90.0      77.0   56.0\n",
       "K pop               162.0       115.0      90.0   66.0\n",
       "Latin                13.0         9.0      10.0    5.0\n",
       "Lofi                 61.0        66.0      56.0   34.0\n",
       "Metal               507.0       446.0     401.0  211.0\n",
       "Pop                 692.5       511.5     384.0  325.5\n",
       "R&B                 181.0       134.0     101.0   96.0\n",
       "Rap                 112.0        88.0      50.0   70.0\n",
       "Rock               1151.0       984.5     729.5  503.5\n",
       "Video game music    259.0       197.0     176.0  105.0"
      ]
     },
     "execution_count": 134,
     "metadata": {},
     "output_type": "execute_result"
    }
   ],
   "source": [
    "df.groupby('Fav genre')[['Anxiety','Depression','Insomnia','OCD' ]].sum().head(16)"
   ]
  },
  {
   "cell_type": "code",
   "execution_count": 135,
   "id": "f52a5987-f884-422a-88db-d83c932f4dea",
   "metadata": {},
   "outputs": [
    {
     "data": {
      "text/html": [
       "<div>\n",
       "<style scoped>\n",
       "    .dataframe tbody tr th:only-of-type {\n",
       "        vertical-align: middle;\n",
       "    }\n",
       "\n",
       "    .dataframe tbody tr th {\n",
       "        vertical-align: top;\n",
       "    }\n",
       "\n",
       "    .dataframe thead th {\n",
       "        text-align: right;\n",
       "    }\n",
       "</style>\n",
       "<table border=\"1\" class=\"dataframe\">\n",
       "  <thead>\n",
       "    <tr style=\"text-align: right;\">\n",
       "      <th></th>\n",
       "      <th>Timestamp</th>\n",
       "      <th>Age</th>\n",
       "      <th>Primary streaming service</th>\n",
       "      <th>Hours per day</th>\n",
       "      <th>While working</th>\n",
       "      <th>Instrumentalist</th>\n",
       "      <th>Composer</th>\n",
       "      <th>Fav genre</th>\n",
       "      <th>Exploratory</th>\n",
       "      <th>Foreign languages</th>\n",
       "      <th>...</th>\n",
       "      <th>Frequency [Rap]</th>\n",
       "      <th>Frequency [Rock]</th>\n",
       "      <th>Frequency [Video game music]</th>\n",
       "      <th>Anxiety</th>\n",
       "      <th>Depression</th>\n",
       "      <th>Insomnia</th>\n",
       "      <th>OCD</th>\n",
       "      <th>Music effects</th>\n",
       "      <th>Permissions</th>\n",
       "      <th>Age Group</th>\n",
       "    </tr>\n",
       "  </thead>\n",
       "  <tbody>\n",
       "    <tr>\n",
       "      <th>0</th>\n",
       "      <td>8/27/2022 19:29</td>\n",
       "      <td>18</td>\n",
       "      <td>Spotify</td>\n",
       "      <td>3.0</td>\n",
       "      <td>Yes</td>\n",
       "      <td>Yes</td>\n",
       "      <td>Yes</td>\n",
       "      <td>Latin</td>\n",
       "      <td>Yes</td>\n",
       "      <td>Yes</td>\n",
       "      <td>...</td>\n",
       "      <td>Very frequently</td>\n",
       "      <td>Never</td>\n",
       "      <td>Sometimes</td>\n",
       "      <td>3.0</td>\n",
       "      <td>0.0</td>\n",
       "      <td>1.0</td>\n",
       "      <td>0.0</td>\n",
       "      <td>Unsure</td>\n",
       "      <td>I understand.</td>\n",
       "      <td>19-30</td>\n",
       "    </tr>\n",
       "    <tr>\n",
       "      <th>1</th>\n",
       "      <td>8/27/2022 19:57</td>\n",
       "      <td>63</td>\n",
       "      <td>Pandora</td>\n",
       "      <td>1.5</td>\n",
       "      <td>Yes</td>\n",
       "      <td>No</td>\n",
       "      <td>No</td>\n",
       "      <td>Rock</td>\n",
       "      <td>Yes</td>\n",
       "      <td>No</td>\n",
       "      <td>...</td>\n",
       "      <td>Rarely</td>\n",
       "      <td>Very frequently</td>\n",
       "      <td>Rarely</td>\n",
       "      <td>7.0</td>\n",
       "      <td>2.0</td>\n",
       "      <td>2.0</td>\n",
       "      <td>1.0</td>\n",
       "      <td>Unsure</td>\n",
       "      <td>I understand.</td>\n",
       "      <td>61-70</td>\n",
       "    </tr>\n",
       "    <tr>\n",
       "      <th>2</th>\n",
       "      <td>8/27/2022 21:28</td>\n",
       "      <td>18</td>\n",
       "      <td>Spotify</td>\n",
       "      <td>4.0</td>\n",
       "      <td>No</td>\n",
       "      <td>No</td>\n",
       "      <td>No</td>\n",
       "      <td>Video game music</td>\n",
       "      <td>No</td>\n",
       "      <td>Yes</td>\n",
       "      <td>...</td>\n",
       "      <td>Rarely</td>\n",
       "      <td>Rarely</td>\n",
       "      <td>Very frequently</td>\n",
       "      <td>7.0</td>\n",
       "      <td>7.0</td>\n",
       "      <td>10.0</td>\n",
       "      <td>2.0</td>\n",
       "      <td>No effect</td>\n",
       "      <td>I understand.</td>\n",
       "      <td>19-30</td>\n",
       "    </tr>\n",
       "    <tr>\n",
       "      <th>3</th>\n",
       "      <td>8/27/2022 21:40</td>\n",
       "      <td>61</td>\n",
       "      <td>YouTube Music</td>\n",
       "      <td>2.5</td>\n",
       "      <td>Yes</td>\n",
       "      <td>No</td>\n",
       "      <td>Yes</td>\n",
       "      <td>Jazz</td>\n",
       "      <td>Yes</td>\n",
       "      <td>Yes</td>\n",
       "      <td>...</td>\n",
       "      <td>Never</td>\n",
       "      <td>Never</td>\n",
       "      <td>Never</td>\n",
       "      <td>9.0</td>\n",
       "      <td>7.0</td>\n",
       "      <td>3.0</td>\n",
       "      <td>3.0</td>\n",
       "      <td>Improve</td>\n",
       "      <td>I understand.</td>\n",
       "      <td>61-70</td>\n",
       "    </tr>\n",
       "    <tr>\n",
       "      <th>4</th>\n",
       "      <td>8/27/2022 21:54</td>\n",
       "      <td>18</td>\n",
       "      <td>Spotify</td>\n",
       "      <td>4.0</td>\n",
       "      <td>Yes</td>\n",
       "      <td>No</td>\n",
       "      <td>No</td>\n",
       "      <td>R&amp;B</td>\n",
       "      <td>Yes</td>\n",
       "      <td>No</td>\n",
       "      <td>...</td>\n",
       "      <td>Very frequently</td>\n",
       "      <td>Never</td>\n",
       "      <td>Rarely</td>\n",
       "      <td>7.0</td>\n",
       "      <td>2.0</td>\n",
       "      <td>5.0</td>\n",
       "      <td>9.0</td>\n",
       "      <td>Improve</td>\n",
       "      <td>I understand.</td>\n",
       "      <td>19-30</td>\n",
       "    </tr>\n",
       "  </tbody>\n",
       "</table>\n",
       "<p>5 rows × 34 columns</p>\n",
       "</div>"
      ],
      "text/plain": [
       "         Timestamp  Age Primary streaming service  Hours per day  \\\n",
       "0  8/27/2022 19:29   18                   Spotify            3.0   \n",
       "1  8/27/2022 19:57   63                   Pandora            1.5   \n",
       "2  8/27/2022 21:28   18                   Spotify            4.0   \n",
       "3  8/27/2022 21:40   61             YouTube Music            2.5   \n",
       "4  8/27/2022 21:54   18                   Spotify            4.0   \n",
       "\n",
       "  While working Instrumentalist Composer         Fav genre Exploratory  \\\n",
       "0           Yes             Yes      Yes             Latin         Yes   \n",
       "1           Yes              No       No              Rock         Yes   \n",
       "2            No              No       No  Video game music          No   \n",
       "3           Yes              No      Yes              Jazz         Yes   \n",
       "4           Yes              No       No               R&B         Yes   \n",
       "\n",
       "  Foreign languages  ...  Frequency [Rap] Frequency [Rock]  \\\n",
       "0               Yes  ...  Very frequently            Never   \n",
       "1                No  ...           Rarely  Very frequently   \n",
       "2               Yes  ...           Rarely           Rarely   \n",
       "3               Yes  ...            Never            Never   \n",
       "4                No  ...  Very frequently            Never   \n",
       "\n",
       "  Frequency [Video game music] Anxiety Depression Insomnia  OCD Music effects  \\\n",
       "0                    Sometimes     3.0        0.0      1.0  0.0        Unsure   \n",
       "1                       Rarely     7.0        2.0      2.0  1.0        Unsure   \n",
       "2              Very frequently     7.0        7.0     10.0  2.0     No effect   \n",
       "3                        Never     9.0        7.0      3.0  3.0       Improve   \n",
       "4                       Rarely     7.0        2.0      5.0  9.0       Improve   \n",
       "\n",
       "     Permissions Age Group  \n",
       "0  I understand.     19-30  \n",
       "1  I understand.     61-70  \n",
       "2  I understand.     19-30  \n",
       "3  I understand.     61-70  \n",
       "4  I understand.     19-30  \n",
       "\n",
       "[5 rows x 34 columns]"
      ]
     },
     "execution_count": 135,
     "metadata": {},
     "output_type": "execute_result"
    }
   ],
   "source": [
    "# Creating the age groups\n",
    "age_bins = [0, 18, 30, 40, 50, 60, 70, 80, 90, 100]\n",
    "age_labels = ['0-18', '19-30', '31-40', '41-50', '51-60', '61-70', '71-80', '81-90', '90+']\n",
    "\n",
    "# Adding a new column 'Age Group' based on the age ranges\n",
    "df['Age Group'] = pd.cut(df['Age'], bins=age_bins, labels=age_labels, right=False)\n",
    "\n",
    "# Now you have a new column 'Age Group' that contains the age ranges for each person\n",
    "df.head()"
   ]
  },
  {
   "cell_type": "markdown",
   "id": "879f42fc-8c2a-481f-9fe5-1c26ffaceac4",
   "metadata": {},
   "source": [
    "# Data overview and Insights"
   ]
  },
  {
   "cell_type": "code",
   "execution_count": 136,
   "id": "369b8d64-d337-41bf-9d6f-9e6c1eb7e2e6",
   "metadata": {},
   "outputs": [
    {
     "name": "stdout",
     "output_type": "stream",
     "text": [
      "Percentage use of Primary streaming service:\n",
      "Primary streaming service\n",
      "Spotify                              62.228261\n",
      "YouTube Music                        12.771739\n",
      "I do not use a streaming service.     9.646739\n",
      "Apple Music                           6.929348\n",
      "Other streaming service               6.793478\n",
      "Pandora                               1.494565\n",
      "Not Specified                         0.135870\n",
      "Name: proportion, dtype: float64\n"
     ]
    }
   ],
   "source": [
    "# Calculating the percentage use of each streaming service\n",
    "service_counts = df['Primary streaming service'].value_counts(normalize=True) * 100\n",
    "\n",
    "# Print the percentage use of each streaming service\n",
    "print(\"Percentage use of Primary streaming service:\")\n",
    "print(service_counts)"
   ]
  },
  {
   "cell_type": "code",
   "execution_count": 137,
   "id": "628d811b-50f3-4f1d-a1e2-939822fd72d8",
   "metadata": {},
   "outputs": [
    {
     "data": {
      "image/png": "[encoded data removed]",
      "text/plain": [
       "<Figure size 640x480 with 1 Axes>"
      ]
     },
     "metadata": {},
     "output_type": "display_data"
    }
   ],
   "source": [
    "# the streaming platforms and their market shares\n",
    "platforms = ['Spotify', 'Apple Music', 'YouTube Music', 'Others']\n",
    "market_shares = [62.2, 12.7, 9.6, 6.8]\n",
    "\n",
    "# Creating the pie chart\n",
    "plt.pie(market_shares, labels=platforms, autopct='%1.1f%%')\n",
    "\n",
    "# Adding  a title\n",
    "plt.title('Market Share of Streaming Platforms')\n",
    "\n",
    "# Displaying the chart\n",
    "plt.show()"
   ]
  },
  {
   "cell_type": "code",
   "execution_count": 138,
   "id": "58e6a8f6-3e28-4593-a5c3-73bf61c0a9c0",
   "metadata": {},
   "outputs": [
    {
     "name": "stdout",
     "output_type": "stream",
     "text": [
      "Fav genre\n",
      "Rock                25.543478\n",
      "Pop                 15.489130\n",
      "Metal               11.956522\n",
      "Classical            7.201087\n",
      "Video game music     5.978261\n",
      "EDM                  5.027174\n",
      "R&B                  4.755435\n",
      "Hip hop              4.755435\n",
      "Folk                 4.076087\n",
      "K pop                3.532609\n",
      "Country              3.396739\n",
      "Rap                  2.989130\n",
      "Jazz                 2.717391\n",
      "Lofi                 1.358696\n",
      "Gospel               0.815217\n",
      "Latin                0.407609\n",
      "Name: count, dtype: float64\n"
     ]
    }
   ],
   "source": [
    "\n",
    "total_rows = df.shape[0]\n",
    "\n",
    "# Group by 'Fav Genre' and count the occurrences\n",
    "genre_counts = df['Fav genre'].value_counts()\n",
    "\n",
    "# Calculate the percentage for each genre\n",
    "genre_percentages = (genre_counts / total_rows) * 100\n",
    "\n",
    "print(genre_percentages)\n",
    "\n",
    "# round the percentages to two decimal places, y use the round function:\n",
    "\n",
    "\n",
    "genre_percentages = genre_percentages.round(2)\n",
    "\n",
    "\n",
    "# to sort the results in descending order (highest percentage first),  use the sort_values method:\n",
    "\n",
    "\n",
    "genre_percentages = genre_percentages.sort_values(ascending=False)"
   ]
  },
  {
   "cell_type": "code",
   "execution_count": 139,
   "id": "9c40e825-6a22-41d1-b581-9feff3a96f6e",
   "metadata": {},
   "outputs": [
    {
     "data": {
      "image/png": "[encoded data removed]",
      "text/plain": [
       "<Figure size 640x480 with 1 Axes>"
      ]
     },
     "metadata": {},
     "output_type": "display_data"
    }
   ],
   "source": [
    "# Define the music genres and their corresponding percentages\n",
    "music_genres = ['Rock', 'Pop', 'Metal', 'Classical']\n",
    "genre_percentages = [25.5, 15.5, 11.9, 7.2]\n",
    "\n",
    "# Create a pie chart\n",
    "plt.pie(genre_percentages, labels=music_genres, autopct='%1.1f%%')\n",
    "\n",
    "# Add a title\n",
    "plt.title('Music Genre Preferences')\n",
    "\n",
    "# Display the chart\n",
    "plt.show()"
   ]
  },
  {
   "cell_type": "code",
   "execution_count": 140,
   "id": "c0f32363-d8ce-4ce3-a96f-61442d606e06",
   "metadata": {},
   "outputs": [
    {
     "name": "stdout",
     "output_type": "stream",
     "text": [
      "Percentage of music effects for each participant:\n",
      "Music effects\n",
      "Improve      73.641304\n",
      "No effect    22.961957\n",
      "Worsen        2.309783\n",
      "Unsure        1.086957\n",
      "Name: count, dtype: float64\n"
     ]
    }
   ],
   "source": [
    "# Calculate the total count for each music effect\n",
    "music_effects_counts = df['Music effects'].value_counts()\n",
    "\n",
    "# Calculate the percentage of music effects for each participant\n",
    "percentage_effects = (music_effects_counts / len(df)) * 100\n",
    "\n",
    "# Print the percentage of music effects for each participant\n",
    "print(\"Percentage of music effects for each participant:\")\n",
    "print(percentage_effects)"
   ]
  },
  {
   "cell_type": "code",
   "execution_count": 141,
   "id": "030c3f1e-7049-41bc-8740-d72249c3870f",
   "metadata": {},
   "outputs": [
    {
     "data": {
      "image/png": "[encoded data removed]",
      "text/plain": [
       "<Figure size 640x480 with 1 Axes>"
      ]
     },
     "metadata": {},
     "output_type": "display_data"
    }
   ],
   "source": [
    "#  the impact categories and their corresponding percentages\n",
    "impact_categories = ['Improvement', 'No Significant Effect', 'Worsened']\n",
    "impact_percentages = [73.6, 30, 2.3]\n",
    "\n",
    "# Create a bar plot\n",
    "plt.bar(impact_categories, impact_percentages)\n",
    "\n",
    "# Add labels and title\n",
    "plt.xlabel('Impact Categories')\n",
    "plt.ylabel('Percentage')\n",
    "plt.title('Impact of Music on Mental Health')\n",
    "\n",
    "# Display the plot\n",
    "plt.show()"
   ]
  },
  {
   "cell_type": "code",
   "execution_count": 142,
   "id": "96568ce7-4da4-400c-9016-d51fa14b663b",
   "metadata": {},
   "outputs": [
    {
     "data": {
      "image/png": "[encoded data removed]",
      "text/plain": [
       "<Figure size 640x480 with 1 Axes>"
      ]
     },
     "metadata": {},
     "output_type": "display_data"
    }
   ],
   "source": [
    "# extract the Age column \n",
    "ages=df['Age']\n",
    "# plot a histogram of the ages\n",
    "plt.hist(ages,bins=10, edgecolor = 'black')\n",
    "plt.xlabel('Age Group')\n",
    "plt.title('Age Distribution')\n",
    "plt.show()"
   ]
  },
  {
   "cell_type": "code",
   "execution_count": 143,
   "id": "9517d8f2-e23d-4019-9477-5b191428a913",
   "metadata": {},
   "outputs": [
    {
     "data": {
      "image/png": "[encoded data removed]",
      "text/plain": [
       "<Figure size 640x480 with 1 Axes>"
      ]
     },
     "metadata": {},
     "output_type": "display_data"
    }
   ],
   "source": [
    "# extracting the necessary data for the chart\n",
    "hours_per_day = df['Hours per day']\n",
    "# Plot a histogram chart \n",
    "plt.hist(hours_per_day, bins = 10, edgecolor = 'black')\n",
    "plt.xlabel('Hours per day')\n",
    "plt.ylabel('Frequency')\n",
    "plt.title('Distribution of Music Listening hours per Day')\n",
    "#show the chart \n",
    "plt.show()"
   ]
  },
  {
   "cell_type": "code",
   "execution_count": 144,
   "id": "79e04d1d-bd5f-47f5-b9e0-0b8260144969",
   "metadata": {},
   "outputs": [
    {
     "data": {
      "image/png": "[encoded data removed]",
      "text/plain": [
       "<Figure size 640x480 with 1 Axes>"
      ]
     },
     "metadata": {},
     "output_type": "display_data"
    }
   ],
   "source": [
    "# extract ratings for Anxiety, Depression, Insomnia,and OCD\n",
    "anxiety_ratings = df['Anxiety']\n",
    "depression_ratings = df['Depression']\n",
    "insomnia_ratings = df['Insomnia']\n",
    "ocd_ratings = df['OCD']\n",
    "# set the x-axis labels\n",
    "labels = ['Anxiety','Depression','Insomnia','OCD']\n",
    "# set the x-axis positions\n",
    "x = range(len(labels))\n",
    "#set the bar heights\n",
    "heights = [anxiety_ratings.mean(),depression_ratings.mean(),insomnia_ratings.mean(),ocd_ratings.mean()]\n",
    "# plot the bar chart \n",
    "plt.bar(x,heights)\n",
    "#set the x-axis tick label\n",
    "plt.xticks(x,labels)\n",
    "# set the y-axis label\n",
    "plt.ylabel('Rating')\n",
    "# Setthe title\n",
    "plt.title('Average Mental Health symptom Ratings')\n",
    "# Show the plot\n",
    "plt.show()"
   ]
  },
  {
   "cell_type": "code",
   "execution_count": 145,
   "id": "8bfb6c6f-fff4-4f13-926f-e2c7e4513b77",
   "metadata": {},
   "outputs": [
    {
     "name": "stderr",
     "output_type": "stream",
     "text": [
      "C:\\Users\\oogunjobi\\AppData\\Local\\Temp\\ipykernel_16588\\1394823055.py:13: UserWarning: Boolean Series key will be reindexed to match DataFrame index.\n",
      "  instrumentalists_listening_yes = instrumentalists_data[listening_while_working == 'Yes'].shape[0]\n",
      "C:\\Users\\oogunjobi\\AppData\\Local\\Temp\\ipykernel_16588\\1394823055.py:14: UserWarning: Boolean Series key will be reindexed to match DataFrame index.\n",
      "  composers_listening_yes = composers_data[listening_while_working == 'Yes'].shape[0]\n"
     ]
    },
    {
     "data": {
      "image/png": "[encoded data removed]",
      "text/plain": [
       "<Figure size 640x480 with 1 Axes>"
      ]
     },
     "metadata": {},
     "output_type": "display_data"
    }
   ],
   "source": [
    "instrumentalist = df['Instrumentalist']\n",
    "composer = df['Composer']\n",
    "listening_while_working = df['While working']\n",
    "\n",
    "# Filter the data for participants who are instrumentalists and composers\n",
    "instrumentalists_data = df[df['Instrumentalist'] == 'Yes']\n",
    "composers_data = df[df['Composer'] == 'Yes']\n",
    "\n",
    "# Count the number of participants who listen to music regularly while working\n",
    "listening_yes = listening_while_working.value_counts()['Yes']\n",
    "\n",
    "# Count the number of instrumentalists and composers who listen to music regularly while working\n",
    "instrumentalists_listening_yes = instrumentalists_data[listening_while_working == 'Yes'].shape[0]\n",
    "composers_listening_yes = composers_data[listening_while_working == 'Yes'].shape[0]\n",
    "\n",
    "# Create a bar chart to visualize the data\n",
    "categories = ['All Participants', 'Instrumentalists', 'Composer']\n",
    "values = [listening_yes, instrumentalists_listening_yes, composers_listening_yes]\n",
    "\n",
    "plt.bar(categories, values)\n",
    "plt.xlabel('Group')\n",
    "plt.ylabel('Number of Participants')\n",
    "plt.title('Listening to Music Regularly While Working')\n",
    "\n",
    "plt.show()"
   ]
  },
  {
   "cell_type": "code",
   "execution_count": 146,
   "id": "8f32b573-0d39-4333-9bfb-556e070d38d9",
   "metadata": {},
   "outputs": [
    {
     "name": "stdout",
     "output_type": "stream",
     "text": [
      "Metal\n"
     ]
    }
   ],
   "source": [
    "anxiety_df = df[df['Anxiety'] == True]  # Filter the DataFrame to include only those with anxiety\n",
    "\n",
    "# Get the most common genre among those with anxiety\n",
    "most_common_genre_anxiety = anxiety_df['Fav genre'].mode()[0]\n",
    "\n",
    "print(most_common_genre_anxiety)"
   ]
  },
  {
   "cell_type": "code",
   "execution_count": 147,
   "id": "5ce67681-6b2f-43fa-b48d-eef0febbbfe5",
   "metadata": {},
   "outputs": [
    {
     "name": "stdout",
     "output_type": "stream",
     "text": [
      "Rock\n"
     ]
    }
   ],
   "source": [
    "depression_df = df[df['Depression'] == True]  # Filter the DataFrame to include only those with depression\n",
    "\n",
    "# Get the most common genre among those with depression\n",
    "most_common_genre_depression = depression_df['Fav genre'].mode()[0]\n",
    "\n",
    "print(most_common_genre_depression)"
   ]
  },
  {
   "cell_type": "code",
   "execution_count": 148,
   "id": "6fda1205-d2e5-4609-87c8-3b43c4fc603d",
   "metadata": {},
   "outputs": [
    {
     "name": "stdout",
     "output_type": "stream",
     "text": [
      "Rock\n"
     ]
    }
   ],
   "source": [
    "insomnia_df = df[df['Insomnia'] == True]  # Filter the DataFrame to include only those with Insomnia\n",
    "\n",
    "# Get the most common genre among those with Insomnia\n",
    "most_common_genre_insomnia = depression_df['Fav genre'].mode()[0]\n",
    "\n",
    "print(most_common_genre_insomnia)"
   ]
  },
  {
   "cell_type": "code",
   "execution_count": 149,
   "id": "332922c9-104a-4a82-993b-15ebcb2ed74c",
   "metadata": {},
   "outputs": [
    {
     "name": "stdout",
     "output_type": "stream",
     "text": [
      "Rock\n"
     ]
    }
   ],
   "source": [
    "ocd_df = df[df['OCD'] == True]  # Filter the DataFrame to include only those with OCD\n",
    "\n",
    "# Get the most common genre among those with OCD\n",
    "most_common_genre_ocd = ocd_df['Fav genre'].mode()[0]\n",
    "\n",
    "print(most_common_genre)"
   ]
  },
  {
   "cell_type": "markdown",
   "id": "f6e874b5-be13-4938-bb26-b6c59a17e811",
   "metadata": {},
   "source": [
    "# Statistical Test"
   ]
  },
  {
   "cell_type": "markdown",
   "id": "df4fab0d-bb2b-46fd-b178-29cf4729edf6",
   "metadata": {},
   "source": [
    "### Hypothesis for One way ANOVA testing if fav genre has a significant impact on the following mental health conditions\n",
    "\n",
    "### NB: Fav genre is the independent variable, mental health conditios such as anxiety etc are dependent variable\n",
    "\n",
    "### For anxiety\n",
    "Ho: There is no significant difference in the mean of anxiety across fav_ genres\n",
    "\n",
    "H1: There is a significant difference in the mean of anxiety across fav_genres\n",
    "\n",
    "\n",
    "### For OCD\n",
    "Ho: There is no significant difference in the mean of OCD across fav_ genres\n",
    "\n",
    "H1: There is a significant difference in the mean of OCD across fav_genres\n",
    "\n",
    "\n",
    "\n",
    "### For depression\n",
    "Ho: There is no significant difference in the mean of Depression across fav_ genres\n",
    "\n",
    "H1: There is a significant difference in the mean of Depression across fav_genres\n",
    "\n",
    "\n",
    "### For insomnia\n",
    "Ho: There is no significant difference in the mean of Insomnia across fav_ genres\n",
    "\n",
    "H1: There is a significant difference in the mean of Insomnia across fav_genres \n",
    "\n",
    "\n",
    "### For all mental health condition\n",
    "Ho: There is no significant difference in the mean of Depression , Insomnia, OCD, Anxiety across fav_ genres\n",
    "\n",
    "H1: There is a significant difference in the mean of Depression, Insomnia, OCD, Anxiety across fav_genres."
   ]
  },
  {
   "cell_type": "code",
   "execution_count": 103,
   "id": "a6b9a6da-bb7e-4dc3-bc49-a8ff4acaab72",
   "metadata": {},
   "outputs": [
    {
     "name": "stdout",
     "output_type": "stream",
     "text": [
      "Anxiety: alpha: 0.05, P-value: 0.229021109794951\n",
      "Fail to reject null hypothesis: Fav genre has no significant effect on Anxiety\n"
     ]
    }
   ],
   "source": [
    "fav_genres = df['Fav genre']\n",
    "anxiety = df['Anxiety']\n",
    "# One-way ANOVA for Anxiety\n",
    "f_value, p_value = stats.f_oneway(*[anxiety[fav_genres == genre] for genre in fav_genres.unique()])\n",
    "alpha = 0.05\n",
    "print(f\"Anxiety: alpha: {alpha}, P-value: {p_value}\")\n",
    "if p_value < alpha:\n",
    "    print(\"Reject null hypothesis: Fav genre has a significant effect on Anxiety\")\n",
    "else:\n",
    "    print(\"Fail to reject null hypothesis: Fav genre has no significant effect on Anxiety\")"
   ]
  },
  {
   "cell_type": "code",
   "execution_count": 105,
   "id": "e7f2339d-b062-410a-905a-638b7fad01f3",
   "metadata": {},
   "outputs": [
    {
     "name": "stdout",
     "output_type": "stream",
     "text": [
      "Depression: alpha: 0.05, P-value: 0.019557154986096205\n",
      "Reject null hypothesis: Fav genre has a significant effect on Depression\n"
     ]
    }
   ],
   "source": [
    "fav_genres = df['Fav genre']\n",
    "depression = df['Depression']\n",
    "# One-way ANOVA for Depression\n",
    "f_value, p_value = stats.f_oneway(*[depression[fav_genres == genre] for genre in fav_genres.unique()])\n",
    "alpha = 0.05\n",
    "print(f\"Depression: alpha: {alpha}, P-value: {p_value}\")\n",
    "if p_value < alpha:\n",
    "    print(\"Reject null hypothesis: Fav genre has a significant effect on Depression\")\n",
    "else:\n",
    "    print(\"Fail to reject null hypothesis: Fav genre has no significant effect on Depression\")\n"
   ]
  },
  {
   "cell_type": "code",
   "execution_count": 106,
   "id": "d859c617-1e6f-42cf-951e-5ed753070090",
   "metadata": {},
   "outputs": [
    {
     "name": "stdout",
     "output_type": "stream",
     "text": [
      "Insomnia: alpha: 0.05, P-value: 0.04807408969222518\n",
      "Reject null hypothesis: Fav genre has a significant effect on Insomnia\n"
     ]
    }
   ],
   "source": [
    "fav_genres = df['Fav genre']\n",
    "insomnia = df['Insomnia']\n",
    "# One-way ANOVA for Insomnia\n",
    "f_value, p_value = stats.f_oneway(*[insomnia[fav_genres == genre] for genre in fav_genres.unique()])\n",
    "alpha = 0.05\n",
    "print(f\"Insomnia: alpha: {alpha}, P-value: {p_value}\")\n",
    "if p_value  < alpha:\n",
    "    print(\"Reject null hypothesis: Fav genre has a significant effect on Insomnia\")\n",
    "else:\n",
    "    print(\"Fail to reject null hypothesis: Fav genre has no significant effect on Insomnia\")\n"
   ]
  },
  {
   "cell_type": "code",
   "execution_count": 52,
   "id": "2233d818-6d12-40ac-9bf1-2580cf5d34c2",
   "metadata": {},
   "outputs": [
    {
     "name": "stdout",
     "output_type": "stream",
     "text": [
      "OCD: alpha: 0.05, P-value: 0.8543471661197795\n",
      "Fail to reject null hypothesis: Fav genre has no significant effect on OCD\n"
     ]
    }
   ],
   "source": [
    "fav_genres = df['Fav genre']\n",
    "ocd = df['OCD']\n",
    "# One-way ANOVA for OCD\n",
    "f_value, p_value = stats.f_oneway(*[ocd[fav_genres == genre] for genre in fav_genres.unique()])\n",
    "alpha = 0.05\n",
    "print(f\"OCD: alpha: {alpha}, P-value: {p_value}\")\n",
    "if p_value < alpha:\n",
    "    print(\"Reject null hypothesis: Fav genre has a significant effect on OCD\")\n",
    "else:\n",
    "    print(\"Fail to reject null hypothesis: Fav genre has no significant effect on OCD\")"
   ]
  },
  {
   "cell_type": "code",
   "execution_count": 107,
   "id": "678d07da-af0d-464f-a08e-b0495a7fed7d",
   "metadata": {},
   "outputs": [
    {
     "name": "stdout",
     "output_type": "stream",
     "text": [
      "Mental Health (combined): alpha: 0.05, P-value: 0.007569201790578019\n",
      "Reject null hypothesis: Fav genre has a significant effect on Mental Health (combined)\n"
     ]
    }
   ],
   "source": [
    "fav_genres = df['Fav genre']\n",
    "anxiety = df['Anxiety']\n",
    "depression = df['Depression']\n",
    "insomnia = df['Insomnia']\n",
    "ocd = df['OCD']\n",
    "# One-way ANOVA for all mental health variables combined\n",
    "mental_health = pd.concat([anxiety, depression, insomnia, ocd])\n",
    "f_value, p_value = stats.f_oneway(*[mental_health[fav_genres == genre] for genre in fav_genres.unique()])\n",
    "alpha = 0.05\n",
    "print(f\"Mental Health (combined): alpha: {alpha}, P-value: {p_value}\")\n",
    "if p_value < alpha:\n",
    "    print(\"Reject null hypothesis: Fav genre has a significant effect on Mental Health (combined)\")\n",
    "else:\n",
    "    print(\"Fail to reject null hypothesis: Fav genre has no significant effect on Mental Health (combined)\")"
   ]
  },
  {
   "cell_type": "code",
   "execution_count": null,
   "id": "3a9f2fed-8918-4296-b21c-900675176216",
   "metadata": {},
   "outputs": [],
   "source": []
  }
 ],
 "metadata": {
  "kernelspec": {
   "display_name": "Python 3 (ipykernel)",
   "language": "python",
   "name": "python3"
  },
  "language_info": {
   "codemirror_mode": {
    "name": "ipython",
    "version": 3
   },
   "file_extension": ".py",
   "mimetype": "text/x-python",
   "name": "python",
   "nbconvert_exporter": "python",
   "pygments_lexer": "ipython3",
   "version": "3.11.7"
  }
 },
 "nbformat": 4,
 "nbformat_minor": 5
}
